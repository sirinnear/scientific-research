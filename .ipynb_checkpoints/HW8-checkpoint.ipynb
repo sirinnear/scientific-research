{
 "cells": [
  {
   "cell_type": "code",
   "execution_count": 1,
   "metadata": {},
   "outputs": [],
   "source": [
    "%matplotlib inline\n",
    "from matplotlib import pyplot as plt\n",
    "import numpy as np\n",
    "import math\n",
    "import random"
   ]
  },
  {
   "cell_type": "markdown",
   "metadata": {},
   "source": [
    "# Problem 1"
   ]
  },
  {
   "cell_type": "markdown",
   "metadata": {},
   "source": [
    "1. $\\sigma_g = \\sqrt{\\left(-\\frac{8L\\pi^2}{T^3}\\sigma_T\\right)^2 + \\left(\\frac{4\\pi^2}{T^2}\\sigma_T\\right)^2}$\n",
    "\n",
    "2. $\\sigma_T$\n",
    "\n",
    "3. Decrease the time for 1 period of oscillation(s). Maybe performing the experiment where there exists less air friction on the pendulum.\n",
    "\n",
    "4. "
   ]
  },
  {
   "cell_type": "code",
   "execution_count": 57,
   "metadata": {},
   "outputs": [
    {
     "name": "stdout",
     "output_type": "stream",
     "text": [
      "g = 9.38 ± 0.30 m/s^2\n"
     ]
    },
    {
     "data": {
      "image/png": "[encoded data removed]",
      "text/plain": [
       "<Figure size 432x288 with 1 Axes>"
      ]
     },
     "metadata": {
      "needs_background": "light"
     },
     "output_type": "display_data"
    }
   ],
   "source": [
    "ten_period = np.array([18.09, 18.37, 18.41, 17.97, 18.31, 18.28])\n",
    "one_period = ten_period/10\n",
    "L = np.random.normal(0.79, 0.02, 100000)\n",
    "T = np.random.normal(np.mean(one_period), np.std(one_period, ddof=1), 100000)\n",
    "g = (2 * math.pi)**2 * L/ T**2\n",
    "print(\"g = {:.2f} ± {:.2f} m/s^2\".format(np.mean(g), np.std(g)))\n",
    "plt.hist(g, bins=100);"
   ]
  },
  {
   "cell_type": "markdown",
   "metadata": {},
   "source": [
    "# Problem 2"
   ]
  },
  {
   "cell_type": "code",
   "execution_count": 27,
   "metadata": {},
   "outputs": [],
   "source": [
    "n = 36000\n",
    "p = 300./36000\n",
    "\n",
    "N = 1000\n",
    "cust_hist = np.array([])\n",
    "\n",
    "for i in range(N):\n",
    "    count = 0\n",
    "    random = np.array([np.random.random() for i in range(n)])\n",
    "    for j in range(n):\n",
    "        if random[j] < p:\n",
    "            count += 1\n",
    "    cust_hist = np.append(cust_hist, count)"
   ]
  },
  {
   "cell_type": "code",
   "execution_count": 54,
   "metadata": {},
   "outputs": [
    {
     "name": "stdout",
     "output_type": "stream",
     "text": [
      "Customer mean = 299.73\n",
      "Customer standard deviation = 16.14\n"
     ]
    },
    {
     "data": {
      "image/png": "[encoded data removed]",
      "text/plain": [
       "<Figure size 432x288 with 1 Axes>"
      ]
     },
     "metadata": {
      "needs_background": "light"
     },
     "output_type": "display_data"
    }
   ],
   "source": [
    "plt.hist(cust_hist, bins=100);\n",
    "\n",
    "cust_mean = np.mean(cust_hist)\n",
    "cust_std = np.std(cust_hist)\n",
    "\n",
    "print(\"Customer mean = {:.2f}\".format(cust_mean))\n",
    "print(\"Customer standard deviation = {:.2f}\".format(cust_std))"
   ]
  },
  {
   "cell_type": "code",
   "execution_count": 53,
   "metadata": {},
   "outputs": [
    {
     "name": "stdout",
     "output_type": "stream",
     "text": [
      "Time mean = 12.05 seconds per customer\n",
      "Time standard deviation = 0.64 seconds per customer\n"
     ]
    },
    {
     "data": {
      "image/png": "[encoded data removed]",
      "text/plain": [
       "<Figure size 432x288 with 1 Axes>"
      ]
     },
     "metadata": {
      "needs_background": "light"
     },
     "output_type": "display_data"
    }
   ],
   "source": [
    "time_hist = 3600/cust_hist\n",
    "\n",
    "plt.hist(time_hist, bins=100);\n",
    "# time_hist\n",
    "time_mean = np.mean(time_hist)\n",
    "time_std = np.std(time_hist)\n",
    "\n",
    "print(\"Time mean = {:.2f}\".format(time_mean), \"seconds per customer\")\n",
    "print(\"Time standard deviation = {:.2f}\".format(time_std), \"seconds per customer\")"
   ]
  },
  {
   "cell_type": "code",
   "execution_count": 56,
   "metadata": {},
   "outputs": [
    {
     "name": "stdout",
     "output_type": "stream",
     "text": [
      "Time for 1 cashier = 241.06 ± 122.03 seconds\n",
      "Time for 2 cashiers = 119.31 ± 61.30 seconds\n",
      "Time for 3 cashiers = 80.34 ± 38.77 seconds\n"
     ]
    },
    {
     "data": {
      "image/png": "[encoded data removed]",
      "text/plain": [
       "<Figure size 1440x360 with 3 Axes>"
      ]
     },
     "metadata": {
      "needs_background": "light"
     },
     "output_type": "display_data"
    }
   ],
   "source": [
    "cashier_mean = 20\n",
    "cashier_std = 10\n",
    "\n",
    "three_cashier = (time_hist/3)*np.random.normal(cashier_mean, cashier_std, len(time_hist))\n",
    "two_cashier = (time_hist/2)*np.random.normal(cashier_mean, cashier_std, len(time_hist))\n",
    "one_cashier = time_hist*np.random.normal(cashier_mean, cashier_std, len(time_hist))\n",
    "\n",
    "fig1, (one, two, three) = plt.subplots(1, 3, figsize=(20,5))\n",
    "three.hist(three_cashier, bins=100);\n",
    "three.set_title(\"3 Cashiers\")\n",
    "\n",
    "two.hist(two_cashier, bins=100);\n",
    "two.set_title(\"2 Cashiers\")\n",
    "\n",
    "one.hist(one_cashier, bins=100);\n",
    "one.set_title(\"1 Cashier\")\n",
    "\n",
    "print(\"Time for 1 cashier = {:.2f} ± {:.2f} seconds\".format(np.mean(one_cashier), np.std(one_cashier)))\n",
    "print(\"Time for 2 cashiers = {:.2f} ± {:.2f} seconds\".format(np.mean(two_cashier), np.std(two_cashier)))\n",
    "print(\"Time for 3 cashiers = {:.2f} ± {:.2f} seconds\".format(np.mean(three_cashier), np.std(three_cashier)))"
   ]
  },
  {
   "cell_type": "code",
   "execution_count": null,
   "metadata": {},
   "outputs": [],
   "source": []
  }
 ],
 "metadata": {
  "kernelspec": {
   "display_name": "Python 3",
   "language": "python",
   "name": "python3"
  },
  "language_info": {
   "codemirror_mode": {
    "name": "ipython",
    "version": 3
   },
   "file_extension": ".py",
   "mimetype": "text/x-python",
   "name": "python",
   "nbconvert_exporter": "python",
   "pygments_lexer": "ipython3",
   "version": "3.7.4"
  }
 },
 "nbformat": 4,
 "nbformat_minor": 2
}
