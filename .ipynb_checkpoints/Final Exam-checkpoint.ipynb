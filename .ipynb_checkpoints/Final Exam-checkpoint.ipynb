{
 "cells": [
  {
   "cell_type": "code",
   "execution_count": 3,
   "metadata": {},
   "outputs": [],
   "source": [
    "from matplotlib import pyplot as plt\n",
    "import numpy as np\n",
    "import math\n",
    "import random"
   ]
  },
  {
   "cell_type": "markdown",
   "metadata": {},
   "source": [
    "# Problem 1\n",
    "**What is a double-blind study? Why is it useful? What is the relationship between randomized control trials and double-blind studies?**"
   ]
  },
  {
   "cell_type": "markdown",
   "metadata": {},
   "source": [
    "A double blind study is one in which neither the participants nor the experimenters know who is receiving a particular treatment. This procedure is utilized to prevent bias in research results, thus, it is useful for preventing bias due to demand characteristics or the placebo effect. A randomized control trial is a trial where participants are randomized into either an experimental group or a control group. The relationship between this and double-blind study is it blinds the participants from knowing which group they are in and what exactly they should be expecting in the experiment."
   ]
  },
  {
   "cell_type": "markdown",
   "metadata": {},
   "source": [
    "# Problem 2\n",
    "**When can a Binomial Distribution be well approximated by a Poisson Distribution? What is the relationship between Poisson’s λ and Binomial’s N and p? Do you think the number of traffic deaths per day during Songkran festival is well approximated by a Poisson distribution? Why or why not?**"
   ]
  },
  {
   "cell_type": "markdown",
   "metadata": {},
   "source": [
    "When $n$ is large and $p$ is small, then the Poisson distribution is well approximated. In fact, is $n > 50$ and $np < 5$, then the Poisson distribution has a good approximation. <br> Poisson's $\\lambda$ represents the average number of successes per time period. Binomial's $N$ represents the number of trials performed and $p$ represents the probability of success. This means $np$ is the number, or average number, of successful trials per time period. We can also say Poisson's $\\lambda$ is equal to Binomial's $np$. <br> Based on the statistics from last year, out of 3442 injured people, 386 people died. The probability of an injured person dying is approximately 0.11. Assuming $n$ is 1000, so $np = 110$, which violates the condition for a well approximated Poisson distribution. Thus, it is not a well approximated distribution."
   ]
  },
  {
   "cell_type": "markdown",
   "metadata": {},
   "source": [
    "# Problem 3\n",
    "**During Thailand's holiday seasons such as New Year or Song Kran, traffic deaths seem to increase. If the average number of traffic deaths per day is 30 for non-holidays and is 35 for holidays, do you think there's an actual difference between non-holiday and holiday death rate? Why? Would your conclusion change if the holiday death rate is 40?**"
   ]
  },
  {
   "cell_type": "markdown",
   "metadata": {},
   "source": [
    "Null hypothesis: $H_0: \\mu_1 = \\mu_2$ <br>\n",
    "Alternative hypothesis: $H_a: \\mu_1 \\neq \\mu_2$ <br>\n",
    "We assume $\\alpha = 0.05$ <br>\n",
    "We also assume Songkran as the only holiday, which spans 5 days, while the remaining 360 days are non-holidays."
   ]
  },
  {
   "cell_type": "code",
   "execution_count": 133,
   "metadata": {},
   "outputs": [
    {
     "name": "stdout",
     "output_type": "stream",
     "text": [
      "The p-value when holiday death rate = 35 is 0.00066970350\n",
      "The p-value when holiday death rate = 40 is 0.00066970350\n"
     ]
    }
   ],
   "source": [
    "from scipy import stats\n",
    "\n",
    "a = np.random.randn(360) + 30 #sample for non-holiday\n",
    "b = np.random.randn(5) + 35 #sample for Songkran holiday\n",
    "\n",
    "t = (np.mean(a) - np.mean(b))/np.sqrt(np.std(a)**2/360 + np.std(b)**2/5)\n",
    "\n",
    "df = 5-1\n",
    "\n",
    "p = stats.t.cdf(t, df=df)\n",
    "print(\"The p-value when holiday death rate = 35 is {:.11f}\".format(p))\n",
    "\n",
    "#holiday death rate 40\n",
    "c = np.random.randn(5) + 40 #rate 40 for holiday death rate\n",
    "\n",
    "t_40 = (np.mean(a) - np.mean(c))/np.sqrt(np.std(c)**2/360 + np.std(c)**2/5)\n",
    "df_40 = 5-1\n",
    "p_40 = stats.t.cdf(t, df=df)\n",
    "print(\"The p-value when holiday death rate = 40 is {:.11f}\".format(p))\n"
   ]
  },
  {
   "cell_type": "markdown",
   "metadata": {},
   "source": [
    "As we can see, the p-value is < $\\alpha$. This means that there is a low possibility for the null hypothesis to be true. Thus, we reject the null hypothesis, meaning that there is a difference between non-holiday and holiday death rate. The same is also true for holiday death rate of 40."
   ]
  },
  {
   "cell_type": "markdown",
   "metadata": {},
   "source": [
    "# Problem 4\n",
    "**Find out what homeopathy is. Why is its effectiveness exactly like placebo's?**"
   ]
  },
  {
   "cell_type": "markdown",
   "metadata": {},
   "source": [
    "Homeopathic is a medical system based on the belief that the body can cure itself. Standing by the policy that \"likes cure like,\" the doctors would mix small doses of substances with diluted water or alcohol that causes the same symptom(s) as the patient's symptom(s) and present to the patients. Some examples of those substances are flowers that can cause fever to cure fever, or bee's venom that causes itchiness to cure itchiness. The mixture of these substances with diluted water or alcohol helps weaken the potent of these substances when patients ingest them; the purpose of ingesting this is to have the body fight back the symptoms or illnesses naturally rather than using chemicals. However, it has been proven that homeopathy actually has no effect on the patient's recovery at all. This can be classified as a placebo since the patients truly believe that homeopathy can cure them when in actuality, homeopathy has no actual influence on the recovery of the body physically."
   ]
  },
  {
   "cell_type": "markdown",
   "metadata": {},
   "source": [
    "# Problem 5\n",
    "**Estimate the number of cumulative Covid-19 patients for the world and for Thailand on April 30, 2020. Please do some research on how we predict the number of epidemic/pandemic cases before estimating.**"
   ]
  },
  {
   "cell_type": "code",
   "execution_count": 45,
   "metadata": {},
   "outputs": [
    {
     "name": "stdout",
     "output_type": "stream",
     "text": [
      "Estimated number of cumulative Covid-19 patients on April 30, 2020 for each country is 98081.49 cases\n"
     ]
    }
   ],
   "source": [
    "R0 = 2.25 #2 - 2.5 (basic reproduction number) as of February 28, 2020\n",
    "i = 5 #incubation period (in days)\n",
    "\n",
    "base_case = 84615 #as of February 28, 2020\n",
    "incubation_periods = 62//i\n",
    "\n",
    "# R0 = np.random.normal(2.5, 1, 100000)\n",
    "# i = np.random.normal(14, 9, 100000)\n",
    "new_cases = (1-R0**incubation_periods)/(1-R0)\n",
    "# 1 + R0 + R0^2 + .... + R0^i-1, where i is the total incubation period\n",
    "\n",
    "print(\"Estimated number of cumulative Covid-19 patients on April 30, 2020 for each country is {:.2f} cases\"\n",
    "      .format(base_case + new_cases))"
   ]
  },
  {
   "attachments": {
    "Final%20Q6.png": {
     "image/png": "[encoded data removed]"
    }
   },
   "cell_type": "markdown",
   "metadata": {},
   "source": [
    "# Problem 6\n",
    "**A man is trying to measure the height of a tree using geometry by aiming a laser pointer from the eye level to the top of the tree. The man stands 10.0 ± 1.0 m away from the base of the tree. His eyes are 1.65 ± 0.05 m above the ground. The angle 𝜽 is 30 ± 3 degrees. What is the height of the tree with its uncertainty? (Hint: Estimating uncertainty with Numpy sampling is very easy. Also, don't forget degree-radian conversion. )** ![Final%20Q6.png](attachment:Final%20Q6.png)"
   ]
  },
  {
   "cell_type": "code",
   "execution_count": 134,
   "metadata": {},
   "outputs": [
    {
     "name": "stdout",
     "output_type": "stream",
     "text": [
      "The height of the tree is 7.44 ± 0.91 m\n"
     ]
    }
   ],
   "source": [
    "base = np.random.normal(10, 1, 100000)\n",
    "eye_height = np.random.normal(1.65, 0.05, 100000)\n",
    "angle_deg = np.random.normal(30, 3, 100000)\n",
    "angle_rad= angle_deg*np.pi/180\n",
    "\n",
    "#tan𝜽 = opposite/adjacent\n",
    "tree_height_from_eye = base*np.tan(angle_rad)\n",
    "tree_height = eye_height + height_from_eye\n",
    "\n",
    "print(\"The height of the tree is {:.2f} ± {:.2f} m\"\n",
    "      .format(np.mean(tree_height), np.std(tree_height)))"
   ]
  },
  {
   "cell_type": "code",
   "execution_count": null,
   "metadata": {},
   "outputs": [],
   "source": []
  }
 ],
 "metadata": {
  "kernelspec": {
   "display_name": "Python 3",
   "language": "python",
   "name": "python3"
  },
  "language_info": {
   "codemirror_mode": {
    "name": "ipython",
    "version": 3
   },
   "file_extension": ".py",
   "mimetype": "text/x-python",
   "name": "python",
   "nbconvert_exporter": "python",
   "pygments_lexer": "ipython3",
   "version": "3.7.4"
  }
 },
 "nbformat": 4,
 "nbformat_minor": 2
}
