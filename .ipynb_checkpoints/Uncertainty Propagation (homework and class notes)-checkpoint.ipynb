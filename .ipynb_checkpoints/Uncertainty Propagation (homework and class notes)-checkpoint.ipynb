{
 "cells": [
  {
   "cell_type": "code",
   "execution_count": 1,
   "metadata": {},
   "outputs": [],
   "source": [
    "import numpy as np\n",
    "import matplotlib.pyplot as plt\n",
    "import math, random"
   ]
  },
  {
   "cell_type": "markdown",
   "metadata": {},
   "source": [
    "# Last week homework"
   ]
  },
  {
   "cell_type": "code",
   "execution_count": 2,
   "metadata": {},
   "outputs": [],
   "source": [
    "x = np.random.normal(10, 0.4, size = 1000000)\n",
    "y = np.random.normal(6, 0.3, size = 1000000)\n"
   ]
  },
  {
   "cell_type": "code",
   "execution_count": 3,
   "metadata": {},
   "outputs": [
    {
     "name": "stdout",
     "output_type": "stream",
     "text": [
      "Mean of z: 16.0 Std. Dev of z: 0.5\n"
     ]
    },
    {
     "data": {
      "image/png": "[encoded data removed]",
      "text/plain": [
       "<Figure size 432x288 with 1 Axes>"
      ]
     },
     "metadata": {
      "needs_background": "light"
     },
     "output_type": "display_data"
    }
   ],
   "source": [
    "z = x+y\n",
    "print(\"Mean of z: {:.1f} Std. Dev of z: {:.1f}\".format(np.mean(z),np.std(z)))\n",
    "plt.hist(x)\n",
    "plt.hist(y)\n",
    "plt.hist(z)\n",
    "plt.show()"
   ]
  },
  {
   "cell_type": "code",
   "execution_count": 4,
   "metadata": {},
   "outputs": [
    {
     "name": "stdout",
     "output_type": "stream",
     "text": [
      "Mean of z: 4.0 Std. Dev of z: 0.5\n"
     ]
    },
    {
     "data": {
      "image/png": "[encoded data removed]",
      "text/plain": [
       "<Figure size 432x288 with 1 Axes>"
      ]
     },
     "metadata": {
      "needs_background": "light"
     },
     "output_type": "display_data"
    }
   ],
   "source": [
    "z = x-y\n",
    "print(\"Mean of z: {:.1f} Std. Dev of z: {:.1f}\".format(np.mean(z),np.std(z)))\n",
    "plt.hist(x)\n",
    "plt.hist(y)\n",
    "plt.hist(z)\n",
    "plt.show()"
   ]
  },
  {
   "cell_type": "code",
   "execution_count": 5,
   "metadata": {},
   "outputs": [
    {
     "name": "stdout",
     "output_type": "stream",
     "text": [
      "Mean of z: 60.0 Std. Dev of z: 3.8\n"
     ]
    },
    {
     "data": {
      "image/png": "[encoded data removed]",
      "text/plain": [
       "<Figure size 432x288 with 1 Axes>"
      ]
     },
     "metadata": {
      "needs_background": "light"
     },
     "output_type": "display_data"
    }
   ],
   "source": [
    "z = x*y\n",
    "print(\"Mean of z: {:.1f} Std. Dev of z: {:.1f}\".format(np.mean(z),np.std(z)))\n",
    "plt.hist(x)\n",
    "plt.hist(y)\n",
    "plt.hist(z)\n",
    "plt.show()"
   ]
  },
  {
   "cell_type": "markdown",
   "metadata": {},
   "source": [
    "# Theoretical formulas for uncertainty propagation\n",
    "\n",
    "Let $x$ and $y$ be measurements that are independent (not correlating with one another), with uncertainty $\\sigma_x$ and $\\sigma_y$.\n",
    "\n",
    "Let $\\sigma_{f(x,y)}$ be the uncertainty of the result of a calculation that involves $x$ and $y$, then:\n",
    "\n",
    "$\\sigma_{x+c}^2 = \\sigma_x^2$, where $c$ is a constant\n",
    "\n",
    "$\\sigma_{cx}^2 = c^2 \\sigma_x^2$, where $c$ is a constant\n",
    "\n",
    "$\\sigma_{x+y}^2 = \\sigma_x^2 + \\sigma_y^2$\n",
    "\n",
    "$\\sigma_{x-y}^2 = \\sigma_x^2 + \\sigma_y^2$\n",
    "\n",
    "$(\\frac{\\sigma_{xy}}{xy})^2 = (\\frac{\\sigma_{x}}{x})^2 + (\\frac{\\sigma_{y}}{y})^2$\n",
    "\n",
    "$(\\frac{\\sigma_{x/y}}{x/y})^2 = (\\frac{\\sigma_{x}}{x})^2 + (\\frac{\\sigma_{y}}{y})^2$\n",
    "\n",
    "In general, if we have many independent measurements $x_1$, $x_2$, $x_3$ ... and we calculate a result = $f(x_1, x_2, x_3, ...)$ then $\\sigma_{f(..)}$ is related to $\\sigma_{x_1}$, $\\sigma_{x_2}$, $\\sigma_{x_3}$, ... by this equation:\n",
    "\n",
    "$\\sigma_f^2 = (\\frac{\\partial{f}}{\\partial{x_1}}\\sigma_{x_1})^2 + (\\frac{\\partial{f}}{\\partial{x_2}}\\sigma_{x_2})^2 + (\\frac{\\partial{f}}{\\partial{x_3}}\\sigma_{x_3})^2 + ...$\n",
    "\n",
    "Don't forget that you need the uncertainty itself, not its square, so you should compute this in the end:\n",
    "\n",
    "$\\sigma_f = \\sqrt{(\\frac{\\partial{f}}{\\partial{x_1}}\\sigma_{x_1})^2 + (\\frac{\\partial{f}}{\\partial{x_2}}\\sigma_{x_2})^2 + (\\frac{\\partial{f}}{\\partial{x_3}}\\sigma_{x_3})^2 + ...}$"
   ]
  },
  {
   "cell_type": "code",
   "execution_count": 6,
   "metadata": {},
   "outputs": [
    {
     "data": {
      "text/plain": [
       "3.841874542459709"
      ]
     },
     "execution_count": 6,
     "metadata": {},
     "output_type": "execute_result"
    }
   ],
   "source": [
    "\"\"\"\n",
    "Compare standard deviation of x*y with theory above:\n",
    "Theory = 3.8\n",
    "Sampling = 3.8\n",
    "\"\"\"\n",
    "math.sqrt(((0.4/10)**2 + (0.3/6)**2)*(10*6)**2)"
   ]
  },
  {
   "cell_type": "code",
   "execution_count": 7,
   "metadata": {},
   "outputs": [
    {
     "name": "stdout",
     "output_type": "stream",
     "text": [
      "Mean of z: 1.7 Std. Dev of z: 0.1\n"
     ]
    },
    {
     "data": {
      "image/png": "[encoded data removed]",
      "text/plain": [
       "<Figure size 432x288 with 1 Axes>"
      ]
     },
     "metadata": {
      "needs_background": "light"
     },
     "output_type": "display_data"
    }
   ],
   "source": [
    "z = x/y\n",
    "print(\"Mean of z: {:.1f} Std. Dev of z: {:.1f}\".format(np.mean(z),np.std(z)))\n",
    "plt.hist(x)\n",
    "plt.hist(y)\n",
    "plt.hist(z)\n",
    "plt.show()"
   ]
  },
  {
   "cell_type": "code",
   "execution_count": 8,
   "metadata": {},
   "outputs": [
    {
     "data": {
      "text/plain": [
       "0.10671873729054748"
      ]
     },
     "execution_count": 8,
     "metadata": {},
     "output_type": "execute_result"
    }
   ],
   "source": [
    "\"\"\"\n",
    "Compare standard deviation of x/y with theory above:\n",
    "Theory = 0.1\n",
    "Sampling = 0.1\n",
    "\"\"\"\n",
    "math.sqrt(((0.4/10)**2 + (0.3/6)**2)*(10/6)**2)"
   ]
  },
  {
   "cell_type": "code",
   "execution_count": 9,
   "metadata": {},
   "outputs": [
    {
     "name": "stdout",
     "output_type": "stream",
     "text": [
      "Mean of z: 100.0 Std. Dev of z: 4.0\n"
     ]
    },
    {
     "data": {
      "image/png": "[encoded data removed]",
      "text/plain": [
       "<Figure size 432x288 with 1 Axes>"
      ]
     },
     "metadata": {
      "needs_background": "light"
     },
     "output_type": "display_data"
    }
   ],
   "source": [
    "z = 10*x\n",
    "print(\"Mean of z: {:.1f} Std. Dev of z: {:.1f}\".format(np.mean(z),np.std(z)))\n",
    "plt.hist(x)\n",
    "plt.hist(z)\n",
    "plt.show()"
   ]
  },
  {
   "cell_type": "code",
   "execution_count": 10,
   "metadata": {},
   "outputs": [
    {
     "name": "stdout",
     "output_type": "stream",
     "text": [
      "Mean of z: 13.0 Std. Dev of z: 0.4\n"
     ]
    },
    {
     "data": {
      "image/png": "[encoded data removed]",
      "text/plain": [
       "<Figure size 432x288 with 1 Axes>"
      ]
     },
     "metadata": {
      "needs_background": "light"
     },
     "output_type": "display_data"
    }
   ],
   "source": [
    "z = x+3\n",
    "print(\"Mean of z: {:.1f} Std. Dev of z: {:.1f}\".format(np.mean(z),np.std(z)))\n",
    "plt.hist(x)\n",
    "plt.hist(z)\n",
    "plt.show()"
   ]
  },
  {
   "cell_type": "markdown",
   "metadata": {},
   "source": [
    "Let try looking at a more complicate function of $x$ and $y$ where it's harder to compute uncertainty.  \n",
    "\n",
    "Let $z = exp(\\frac{x^2+y^2}{100})$\n",
    "\n",
    "Then $\\sigma_z^2 = (\\frac{\\partial{z}}{\\partial{x}}\\sigma_{x})^2 + (\\frac{\\partial{z}}{\\partial{y}}\\sigma_{y})^2 = (\\frac{x z}{50}\\sigma_{x})^2 + (\\frac{y z}{50}\\sigma_{y})^2$\n",
    "\n",
    "For $x$ = 10, $\\sigma_x$ = 0.4, $y$ = 6, $\\sigma_y$ = 0.3, we calculate $z$ and $\\sigma_z$ to be $z$ = 3.89619 and $\\sigma_z$ = 0.341801\n",
    "\n",
    "The calculation below just samples $x$, $y$ and compute $z$ and calculates the standard deviation of sampled $z$.  The result is in a good agreement with theoretical values:\n",
    "\n"
   ]
  },
  {
   "cell_type": "code",
   "execution_count": 11,
   "metadata": {},
   "outputs": [
    {
     "name": "stdout",
     "output_type": "stream",
     "text": [
      "Mean of z: 3.9 Std. Dev of z: 0.3\n"
     ]
    },
    {
     "data": {
      "image/png": "[encoded data removed]",
      "text/plain": [
       "<Figure size 432x288 with 1 Axes>"
      ]
     },
     "metadata": {
      "needs_background": "light"
     },
     "output_type": "display_data"
    }
   ],
   "source": [
    "z = np.exp((x**2 + y**2)/100) #More complicate function in x and y\n",
    "print(\"Mean of z: {:.1f} Std. Dev of z: {:.1f}\".format(np.mean(z),np.std(z)))\n",
    "plt.hist(x)\n",
    "plt.hist(y)\n",
    "plt.hist(z)\n",
    "plt.show()"
   ]
  },
  {
   "cell_type": "code",
   "execution_count": 12,
   "metadata": {},
   "outputs": [
    {
     "data": {
      "text/plain": [
       "3.896193301795215"
      ]
     },
     "execution_count": 12,
     "metadata": {},
     "output_type": "execute_result"
    }
   ],
   "source": [
    "np.exp((10**2+6**2)/100) #check the theoretical value of exp((x^2+y^2)/100)"
   ]
  },
  {
   "cell_type": "markdown",
   "metadata": {},
   "source": [
    "# Try to estimate the room's volume\n",
    "\n",
    "We made a simplifying assumption that the room is rectangular box, so its volume only depends on width, height, and length."
   ]
  },
  {
   "cell_type": "code",
   "execution_count": 13,
   "metadata": {},
   "outputs": [
    {
     "name": "stdout",
     "output_type": "stream",
     "text": [
      "volume = 210 ± 20 m^3\n"
     ]
    },
    {
     "data": {
      "image/png": "[encoded data removed]",
      "text/plain": [
       "<Figure size 432x288 with 1 Axes>"
      ]
     },
     "metadata": {
      "needs_background": "light"
     },
     "output_type": "display_data"
    }
   ],
   "source": [
    "\"\"\"\n",
    "Estimate room's volume\n",
    "width = 10 m uncertainty 0.5 m\n",
    "height = 3 m uncertainty 0.1 m\n",
    "lenght = 7 m uncertainty 0.5 m\"\"\"\n",
    "width = np.random.normal(10, 0.5, 100000)\n",
    "height = np.random.normal(3, 0.1, 100000)\n",
    "length = np.random.normal(7, 0.5, 100000)\n",
    "volume = width * length * height\n",
    "print(\"volume = {:.0f} ± {:.0f} m^3\".format(np.mean(volume), np.std(volume)))\n",
    "plt.hist(volume)\n",
    "plt.show()\n"
   ]
  },
  {
   "cell_type": "markdown",
   "metadata": {},
   "source": [
    "## Estimating g from a falling object\n",
    "\n",
    "We drop a compact object from the height of 2.12 meters and time how long it took for the object to hit the ground. The relationship between the height h and the time t is: $$h = \\frac{g t^2}{2}$$ or $$g = \\frac{2 h}{t^2}$$\n",
    "\n",
    "This is a hard experiment to do manually because the falling time is short and there's a large uncertainty in time measurements as can be seen below."
   ]
  },
  {
   "cell_type": "code",
   "execution_count": 14,
   "metadata": {},
   "outputs": [],
   "source": [
    "h = np.random.normal(2.1, 0.02, 1000000) #Sample the height h = 2.10 ± 0.02 meters"
   ]
  },
  {
   "cell_type": "code",
   "execution_count": 15,
   "metadata": {},
   "outputs": [
    {
     "name": "stdout",
     "output_type": "stream",
     "text": [
      "avg. of t = 0.53 sec\n",
      "std.dev = 0.14 sec\n"
     ]
    }
   ],
   "source": [
    "t_measurements = [ 0.39, 0.59, 0.61, 0.53, 0.56, 0.29, 0.72] #measured time in seconds.\n",
    "print(\"avg. of t = {:.2f} sec\\nstd.dev = {:.2f} sec\".format(np.mean(t_measurements), np.std(t_measurements, ddof=1)))"
   ]
  },
  {
   "cell_type": "code",
   "execution_count": 16,
   "metadata": {},
   "outputs": [],
   "source": [
    "#Sample t = average(measured t) ± sample_std_dev(measured t)\n",
    "t = np.random.normal(np.mean(t_measurements), np.std(t_measurements, ddof=1), 1000000)\n",
    "#t = np.random.normal(np.mean(t_measurements), 0.1, 1000000)"
   ]
  },
  {
   "cell_type": "code",
   "execution_count": 17,
   "metadata": {},
   "outputs": [
    {
     "name": "stdout",
     "output_type": "stream",
     "text": [
      "Mean of g: 139.76 m/s^2, Std. Dev of g: 41921.24 m/s^2\n"
     ]
    }
   ],
   "source": [
    "#Calculate g from sampled h and t.  Note the large uncertainty in g\n",
    "g = 2 * h /t**2\n",
    "print(\"Mean of g: {:.2f} m/s^2, Std. Dev of g: {:.2f} m/s^2\".format(np.mean(g),np.std(g)))"
   ]
  },
  {
   "cell_type": "markdown",
   "metadata": {},
   "source": [
    "The large values of mean and standard deviation come from some near zero values of sample t, giving extremely large values of g.  We should look at the histogram and see if it's better to use median to represent our estimated g or not."
   ]
  },
  {
   "cell_type": "code",
   "execution_count": 18,
   "metadata": {
    "scrolled": true
   },
   "outputs": [
    {
     "data": {
      "image/png": "[encoded data removed]",
      "text/plain": [
       "<Figure size 432x288 with 1 Axes>"
      ]
     },
     "metadata": {
      "needs_background": "light"
     },
     "output_type": "display_data"
    }
   ],
   "source": [
    "#histogram of g calculated from sampled h and t\n",
    "plt.hist(g, range=(0,100))\n",
    "plt.show()"
   ]
  },
  {
   "cell_type": "markdown",
   "metadata": {},
   "source": [
    "When we look at the histogram, the histogram has a long positive tail (dues to divisions by numbers near zero.  To estimate g, it's better to look at the median value of the sampled g:"
   ]
  },
  {
   "cell_type": "code",
   "execution_count": 19,
   "metadata": {
    "scrolled": true
   },
   "outputs": [
    {
     "name": "stdout",
     "output_type": "stream",
     "text": [
      "Median of g: 15.09 m/s^2\n"
     ]
    }
   ],
   "source": [
    "print(\"Median of g: {:.2f} m/s^2\".format(np.median(g)))"
   ]
  },
  {
   "cell_type": "markdown",
   "metadata": {},
   "source": [
    "To estimate uncertainty around the median, we look at percentiles around the median that contain 68.2% of all the sampled data using np.percentile:"
   ]
  },
  {
   "cell_type": "code",
   "execution_count": 20,
   "metadata": {},
   "outputs": [
    {
     "name": "stdout",
     "output_type": "stream",
     "text": [
      "[ 9.3229352  28.50581314]\n"
     ]
    }
   ],
   "source": [
    "print( np.percentile(g,(50-34.1, 50+34.1)))"
   ]
  },
  {
   "cell_type": "markdown",
   "metadata": {},
   "source": [
    "# We took  a video of the falling object and use Tracker program to measure the time to hit the ground.  Time measurement is greatly improved\n",
    "\n",
    "[Tracker can be found here.](https://physlets.org/tracker/)  You might find it useful when you need to analyze videos in the future."
   ]
  },
  {
   "cell_type": "code",
   "execution_count": 21,
   "metadata": {},
   "outputs": [
    {
     "name": "stdout",
     "output_type": "stream",
     "text": [
      "avg. of t = 0.64 seconds, std.dev = 0.01 seconds\n"
     ]
    }
   ],
   "source": [
    "\"\"\"Measure t from video in tracker\"\"\"\n",
    "t_measurements = [(261-223)/60, (262-223)/60, (261-222)/60] #Video frame rate is 60 frames/sec.\n",
    "print(\"avg. of t = {:.2f} seconds, std.dev = {:.2f} seconds\".format(np.mean(t_measurements), np.std(t_measurements, ddof=1)))"
   ]
  },
  {
   "cell_type": "code",
   "execution_count": 22,
   "metadata": {},
   "outputs": [],
   "source": [
    "#Sample t = average(measured t) ± sample_std_dev(measured t)\n",
    "t = np.random.normal(np.mean(t_measurements), np.std(t_measurements, ddof=1), 1000000)"
   ]
  },
  {
   "cell_type": "code",
   "execution_count": 23,
   "metadata": {},
   "outputs": [
    {
     "name": "stdout",
     "output_type": "stream",
     "text": [
      "Sampled t = 0.64 ± 0.01 seconds\n"
     ]
    },
    {
     "data": {
      "image/png": "[encoded data removed]",
      "text/plain": [
       "<Figure size 432x288 with 1 Axes>"
      ]
     },
     "metadata": {
      "needs_background": "light"
     },
     "output_type": "display_data"
    }
   ],
   "source": [
    "print(\"Sampled t = {:.2f} ± {:.2f} seconds\".format(np.mean(t), np.std(t)))\n",
    "plt.hist(t)\n",
    "plt.show()"
   ]
  },
  {
   "cell_type": "code",
   "execution_count": 24,
   "metadata": {},
   "outputs": [
    {
     "name": "stdout",
     "output_type": "stream",
     "text": [
      "Mean of g: 10.12, Std. Dev of g: 0.32\n"
     ]
    },
    {
     "data": {
      "image/png": "[encoded data removed]",
      "text/plain": [
       "<Figure size 432x288 with 1 Axes>"
      ]
     },
     "metadata": {
      "needs_background": "light"
     },
     "output_type": "display_data"
    }
   ],
   "source": [
    "#Calculate g from sampled h and t.  Note the large uncertainty in g\n",
    "g = 2 * h /t**2\n",
    "print(\"Mean of g: {:.2f}, Std. Dev of g: {:.2f}\".format(np.mean(g),np.std(g)))\n",
    "plt.hist(g)\n",
    "plt.show()"
   ]
  },
  {
   "cell_type": "markdown",
   "metadata": {},
   "source": [
    "# Measure pendulum period to calculate g\n",
    "\n",
    "Simple pendulum of lenght L has the period $T = 2 \\pi \\sqrt{\\frac{L}{g}}$,\n",
    "so we can solve for $g$ if we measure $L$ and $T$:\n",
    "\n",
    "$$g = \\frac{(2 \\pi)^2 L}{T^2}$$"
   ]
  },
  {
   "cell_type": "code",
   "execution_count": 25,
   "metadata": {},
   "outputs": [
    {
     "name": "stdout",
     "output_type": "stream",
     "text": [
      "avg. of t = 2.04 seconds, std.dev = 0.04 seconds\n"
     ]
    }
   ],
   "source": [
    "periods = [20.74/10, 20/10, 20.5/10] #Three measurements of 10 oscillations yield 20.74, 20, 20.5 seconds.\n",
    "print(\"avg. of t = {:.2f} seconds, std.dev = {:.2f} seconds\".format(np.mean(periods), np.std(periods, ddof=1)))"
   ]
  },
  {
   "cell_type": "code",
   "execution_count": 26,
   "metadata": {},
   "outputs": [
    {
     "name": "stdout",
     "output_type": "stream",
     "text": [
      "g = 9.84 ± 0.41 m/s^2\n"
     ]
    },
    {
     "data": {
      "image/png": "[encoded data removed]",
      "text/plain": [
       "<Figure size 432x288 with 1 Axes>"
      ]
     },
     "metadata": {
      "needs_background": "light"
     },
     "output_type": "display_data"
    }
   ],
   "source": [
    "\"\"\"L = 1 meter, 10T = 20.04 ± 0.4 sec\n",
    "we estimate uncertainty of L to be 1 cm = 0.01 m \n",
    "and uncertainty of 10T to be 0.4 s, so\n",
    "uncertainty of T is 0.4/10 s\"\"\"\n",
    "L = np.random.normal(1.0, 0.01, 100000)\n",
    "T = np.random.normal(20.04/10, 0.4/10, 100000)\n",
    "g = (2 * math.pi)**2 * L/ T**2\n",
    "print(\"g = {:.2f} ± {:.2f} m/s^2\".format(np.mean(g), np.std(g)))\n",
    "plt.hist(g)\n",
    "plt.show()"
   ]
  },
  {
   "cell_type": "markdown",
   "metadata": {},
   "source": [
    "# (This is an experiment in a previous year) Curve fitting between rope friction as a function of turns around a pole"
   ]
  },
  {
   "cell_type": "code",
   "execution_count": 27,
   "metadata": {},
   "outputs": [],
   "source": [
    "turns = np.array([1,2,3,4,5,6]) #number of rope turns around a pipe\n",
    "tension = np.array([0.6, 0.9, 1.23, 2.5, 5.01, 12.3]) #tension (kg) = friction around the pole\n",
    "sd_tension = np.array([0.3, 0.3, 0.3, 0.3, 0.3, 0.3]) #uncertainty in tension (kg)\n",
    "\n",
    "def f(x, a, b):\n",
    "    return a * np.exp(b * x)  #function to fit, the friction grows exponentially with the number of turns."
   ]
  },
  {
   "cell_type": "markdown",
   "metadata": {},
   "source": [
    "We use [scipy.optimize.curve_fit](https://docs.scipy.org/doc/scipy/reference/generated/scipy.optimize.curve_fit.html) to find parameters of the function to fit to data, along with the parameter's uncertainty."
   ]
  },
  {
   "cell_type": "code",
   "execution_count": 28,
   "metadata": {},
   "outputs": [],
   "source": [
    "import scipy.optimize\n",
    "popt, pcov = scipy.optimize.curve_fit(f, turns, tension, sigma=sd_tension) "
   ]
  },
  {
   "cell_type": "code",
   "execution_count": 29,
   "metadata": {},
   "outputs": [
    {
     "data": {
      "text/plain": [
       "array([0.09398923, 0.81068251])"
      ]
     },
     "execution_count": 29,
     "metadata": {},
     "output_type": "execute_result"
    }
   ],
   "source": [
    "#popt contains the estimated parameters a, b  in the function f(x, a, b) above\n",
    "popt"
   ]
  },
  {
   "cell_type": "code",
   "execution_count": 30,
   "metadata": {},
   "outputs": [
    {
     "data": {
      "text/plain": [
       "array([[ 0.0007118 , -0.00130415],\n",
       "       [-0.00130415,  0.00241146]])"
      ]
     },
     "execution_count": 30,
     "metadata": {},
     "output_type": "execute_result"
    }
   ],
   "source": [
    "#pcov is the covariance matrix of the parameters a, b.  Its diagonal elements are the estimated variances of a and b.\n",
    "pcov"
   ]
  },
  {
   "cell_type": "code",
   "execution_count": 31,
   "metadata": {},
   "outputs": [
    {
     "data": {
      "text/plain": [
       "array([0.02667954, 0.04910658])"
      ]
     },
     "execution_count": 31,
     "metadata": {},
     "output_type": "execute_result"
    }
   ],
   "source": [
    "#to get standard deviation of a and b, use this:\n",
    "np.sqrt(np.diag(pcov))"
   ]
  },
  {
   "cell_type": "markdown",
   "metadata": {},
   "source": [
    "From the popt and pcov above, the estimate parameters a, b are:\n",
    "\n",
    "    a = 0.094 ± 0.027 kg\n",
    "\n",
    "    b = 0.811 ± 0.049 \n",
    "\n",
    "and the friction T vs. number of turns n is:\n",
    "\n",
    "    T = 0.094 exp( 0.811 n)"
   ]
  },
  {
   "cell_type": "markdown",
   "metadata": {},
   "source": [
    "We can plot the fitted function and our data with [error bars](https://matplotlib.org/api/_as_gen/matplotlib.axes.Axes.errorbar.html) (uncertainty for each data point) like this:\n"
   ]
  },
  {
   "cell_type": "code",
   "execution_count": 32,
   "metadata": {},
   "outputs": [
    {
     "data": {
      "image/png": "[encoded data removed]",
      "text/plain": [
       "<Figure size 432x288 with 1 Axes>"
      ]
     },
     "metadata": {
      "needs_background": "light"
     },
     "output_type": "display_data"
    }
   ],
   "source": [
    "x = np.arange(0,6.3,0.1)\n",
    "plt.plot(x, f(x, *popt))\n",
    "plt.errorbar(turns, tension, yerr=sd_tension, fmt = '.')\n",
    "plt.xlabel(\"number of turns\")\n",
    "plt.ylabel(\"friction (kg)\")\n",
    "plt.show()"
   ]
  },
  {
   "cell_type": "markdown",
   "metadata": {},
   "source": [
    "Every time we increase the number of turns by 1, the friction grows by a factor of exp(0.811) = 2.25 times."
   ]
  },
  {
   "cell_type": "code",
   "execution_count": null,
   "metadata": {},
   "outputs": [],
   "source": []
  }
 ],
 "metadata": {
  "kernelspec": {
   "display_name": "Python 3",
   "language": "python",
   "name": "python3"
  },
  "language_info": {
   "codemirror_mode": {
    "name": "ipython",
    "version": 3
   },
   "file_extension": ".py",
   "mimetype": "text/x-python",
   "name": "python",
   "nbconvert_exporter": "python",
   "pygments_lexer": "ipython3",
   "version": "3.7.4"
  }
 },
 "nbformat": 4,
 "nbformat_minor": 2
}
