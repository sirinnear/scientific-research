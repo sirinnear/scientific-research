{
 "cells": [
  {
   "cell_type": "code",
   "execution_count": 5,
   "metadata": {},
   "outputs": [],
   "source": [
    "%matplotlib inline\n",
    "from matplotlib import pyplot as plt\n",
    "import numpy as np\n",
    "import math\n",
    "import random"
   ]
  },
  {
   "cell_type": "markdown",
   "metadata": {},
   "source": [
    "# Problem 1"
   ]
  },
  {
   "cell_type": "code",
   "execution_count": 41,
   "metadata": {},
   "outputs": [
    {
     "data": {
      "text/plain": [
       "<matplotlib.legend.Legend at 0x23731272308>"
      ]
     },
     "execution_count": 41,
     "metadata": {},
     "output_type": "execute_result"
    },
    {
     "data": {
      "image/png": "[encoded data removed]",
      "text/plain": [
       "<Figure size 1080x360 with 2 Axes>"
      ]
     },
     "metadata": {
      "needs_background": "light"
     },
     "output_type": "display_data"
    }
   ],
   "source": [
    "def cal_sample_mean(x, n):\n",
    "    x_bar = np.sum(x)/n\n",
    "    return x_bar\n",
    "\n",
    "def cal_sample_std(x, x_bar, n):\n",
    "    s = np.sqrt(np.sum((x - x_bar)**2)/(n-1))\n",
    "    return s\n",
    "\n",
    "N = [10, 40, 100]\n",
    "M = 1000\n",
    "\n",
    "fig, (mean, std) = plt.subplots(1, 2, figsize=(15, 5))\n",
    "mean.set_title(\"Sample mean\")\n",
    "std.set_title(\"Sample standard deviation\")\n",
    "\n",
    "for n in N: #Step 5\n",
    "    x_bar = []\n",
    "    s = []\n",
    "    for m in range(M): #Step 4\n",
    "        x = np.array([np.random.randint(0, 100) for i in range(n)]) #Step 1\n",
    "        x_bar.append(cal_sample_mean(x, n)) #Step 2\n",
    "        s.append(cal_sample_std(x, x_bar[m], n)) #Step 3\n",
    "    mean.hist(x_bar, label='N = %i' %n, alpha=0.8, bins=50)\n",
    "    std.hist(s, label='N = %i' %n, alpha=0.8, bins=50)\n",
    "\n",
    "mean.legend()\n",
    "std.legend()"
   ]
  },
  {
   "cell_type": "markdown",
   "metadata": {},
   "source": [
    "6. The width of the histogram peak in the mean histogram decreases as N gets larger.\n",
    "\n",
    "7. The peak of the standard deviation hisotgram is lower the wider the width of its respective mean histogram peak is. As we can see, N=10 has a wider mean peak but shorter standard deviation peak, while N=100 has a narrower mean peak but a higher standard deviation peak.\n",
    "\n",
    "So, the wider the mean histogram peak, the smaller the N is and the shorter the standard deviation histogram peak is."
   ]
  },
  {
   "cell_type": "markdown",
   "metadata": {},
   "source": [
    "# Problem 2"
   ]
  },
  {
   "cell_type": "code",
   "execution_count": 76,
   "metadata": {},
   "outputs": [
    {
     "name": "stdout",
     "output_type": "stream",
     "text": [
      "Actual population mean = 49.5052\n",
      "\n",
      "Estimated population mean:\n",
      "k = 10 : 66.3 +- 8.614006681626798\n",
      "k = 40 : 43.175 +- 4.732713145538056\n",
      "k = 1000 : 49.204 +- 0.9346464293774133\n"
     ]
    }
   ],
   "source": [
    "def cal_sem(s, n):\n",
    "    return s/np.sqrt(n)\n",
    "\n",
    "N = 10000\n",
    "x = np.array([np.random.randint(0, 100) for i in range(N)]) #Step 1\n",
    "pop_mean = np.sum(x)/N #Step 2\n",
    "pop_std = np.sqrt(np.sum((x-pop_mean)**2)/N) #Step 2\n",
    "\n",
    "k = [10, 40, 1000]\n",
    "\n",
    "print(\"Actual population mean =\", pop_mean)\n",
    "\n",
    "print(\"\\nEstimated population mean:\")\n",
    "for n in k:\n",
    "    sample = np.random.choice(x, n) #Step 3\n",
    "    x_bar = cal_sample_mean(sample, n) #Step 3.1\n",
    "    s = cal_sample_std(sample, x_bar, n) #Step 3.1\n",
    "    sem = cal_sem(s, n) #Step 3.2\n",
    "    print('k =', n, ':', x_bar, '+-', sem) #Step 3.3"
   ]
  },
  {
   "cell_type": "markdown",
   "metadata": {},
   "source": [
    "4. The larger the number of k samples is, the closer the estimated population mean is to the actual population mean"
   ]
  },
  {
   "cell_type": "markdown",
   "metadata": {},
   "source": [
    "# Problem 3"
   ]
  },
  {
   "cell_type": "code",
   "execution_count": 74,
   "metadata": {},
   "outputs": [
    {
     "name": "stdout",
     "output_type": "stream",
     "text": [
      "Probability: 0.00016245711594820023\n"
     ]
    }
   ],
   "source": [
    "def b(n, k, p):\n",
    "    return (math.factorial(n) * p**k * (1-p)**(n-k)) / (math.factorial(k) * math.factorial(n-k))\n",
    "\n",
    "success_trials = np.array([25+i for i in range(6)])\n",
    "\n",
    "p = np.sum([b(30, i, 0.5) for i in success_trials])\n",
    "\n",
    "print(\"Probability:\", p)"
   ]
  },
  {
   "cell_type": "code",
   "execution_count": null,
   "metadata": {},
   "outputs": [],
   "source": []
  }
 ],
 "metadata": {
  "kernelspec": {
   "display_name": "Python 3",
   "language": "python",
   "name": "python3"
  },
  "language_info": {
   "codemirror_mode": {
    "name": "ipython",
    "version": 3
   },
   "file_extension": ".py",
   "mimetype": "text/x-python",
   "name": "python",
   "nbconvert_exporter": "python",
   "pygments_lexer": "ipython3",
   "version": "3.7.4"
  }
 },
 "nbformat": 4,
 "nbformat_minor": 2
}
