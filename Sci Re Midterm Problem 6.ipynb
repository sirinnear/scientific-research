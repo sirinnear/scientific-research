{
 "cells": [
  {
   "cell_type": "code",
   "execution_count": 4,
   "metadata": {},
   "outputs": [],
   "source": [
    "%matplotlib inline\n",
    "import math\n",
    "import numpy as np\n",
    "from matplotlib import pyplot as plt\n",
    "import random"
   ]
  },
  {
   "cell_type": "code",
   "execution_count": 322,
   "metadata": {},
   "outputs": [
    {
     "name": "stdout",
     "output_type": "stream",
     "text": [
      "Player B won 52.0 % of 100 of best of 3 game(s)\n",
      "Player B won 62.0 % of 100 of best of 5 game(s)\n",
      "Player B won 61.0 % of 100 of best of 7 game(s)\n"
     ]
    }
   ],
   "source": [
    "def best_of_n(n_games, n_times):\n",
    "    A_won = 0\n",
    "    B_won = 0\n",
    "    for i in range(n_times):\n",
    "        playerA = 0\n",
    "        playerB = 0\n",
    "        for j in range(n_games):\n",
    "            won_percent = random.randint(1, 100)\n",
    "            if (won_percent >= 55): playerA += 1\n",
    "            else: playerB += 1\n",
    "        if (playerA > playerB): A_won += 1\n",
    "        if (playerA < playerB): B_won += 1\n",
    "    A_won_percent = (A_won/n_times)*100\n",
    "    B_won_percent = (B_won/n_times)*100\n",
    "    \n",
    "    if (A_won_percent > B_won_percent): print(\"Player A won\", A_won_percent, \"% of\", n_times, \"of best of\", n_games, \"game(s)\")\n",
    "    elif (A_won_percent < B_won_percent): print(\"Player B won\", B_won_percent, \"% of\", n_times, \"of best of\", n_games, \"game(s)\")\n",
    "    else: print(\"It's a draw.\")\n",
    "\n",
    "# best_of_n(1, 100)\n",
    "best_of_n(3, 100)\n",
    "best_of_n(5, 100)\n",
    "best_of_n(7, 100)"
   ]
  },
  {
   "cell_type": "code",
   "execution_count": null,
   "metadata": {},
   "outputs": [],
   "source": []
  },
  {
   "cell_type": "code",
   "execution_count": null,
   "metadata": {},
   "outputs": [],
   "source": []
  },
  {
   "cell_type": "code",
   "execution_count": null,
   "metadata": {},
   "outputs": [],
   "source": []
  }
 ],
 "metadata": {
  "kernelspec": {
   "display_name": "Python 3",
   "language": "python",
   "name": "python3"
  },
  "language_info": {
   "codemirror_mode": {
    "name": "ipython",
    "version": 3
   },
   "file_extension": ".py",
   "mimetype": "text/x-python",
   "name": "python",
   "nbconvert_exporter": "python",
   "pygments_lexer": "ipython3",
   "version": "3.7.4"
  }
 },
 "nbformat": 4,
 "nbformat_minor": 2
}
