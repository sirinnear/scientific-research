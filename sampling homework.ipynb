{
 "cells": [
  {
   "cell_type": "code",
   "execution_count": 13,
   "metadata": {},
   "outputs": [],
   "source": [
    "import numpy as np\n",
    "import matplotlib.pyplot as plt\n",
    "import math, random"
   ]
  },
  {
   "cell_type": "code",
   "execution_count": 14,
   "metadata": {},
   "outputs": [],
   "source": [
    "#Homework #1  Number of samples vs. uncertainty."
   ]
  },
  {
   "cell_type": "code",
   "execution_count": 15,
   "metadata": {},
   "outputs": [],
   "source": [
    "def mean(x):\n",
    "    \"\"\"\n",
    "    Computes the arithmetic mean of sequence x.\n",
    "    \"\"\"\n",
    "    sum = 0\n",
    "    N = len(x)\n",
    "    for i in range(N):\n",
    "        sum = sum + x[i]\n",
    "    return sum/N\n",
    "    "
   ]
  },
  {
   "cell_type": "code",
   "execution_count": 16,
   "metadata": {},
   "outputs": [
    {
     "data": {
      "text/plain": [
       "4.5"
      ]
     },
     "execution_count": 16,
     "metadata": {},
     "output_type": "execute_result"
    }
   ],
   "source": [
    "mean([0,1,2,3,4,5,6,7,8,9])"
   ]
  },
  {
   "cell_type": "code",
   "execution_count": 23,
   "metadata": {},
   "outputs": [],
   "source": [
    "def sample_std(x):\n",
    "    \"\"\"\n",
    "    Computes the sample standard deviation of sequence x,\n",
    "    assuming that each x[i] is a sample from a population.\n",
    "    \"\"\"\n",
    "    xmean = mean(x)\n",
    "    sd = 0\n",
    "    N = len(x)\n",
    "    for i in range(N):\n",
    "        sd = sd + (x[i]-xmean)**2\n",
    "    sd = math.sqrt(sd/(N-1))\n",
    "    return sd"
   ]
  },
  {
   "cell_type": "code",
   "execution_count": 24,
   "metadata": {},
   "outputs": [
    {
     "data": {
      "text/plain": [
       "3.0276503540974917"
      ]
     },
     "execution_count": 24,
     "metadata": {},
     "output_type": "execute_result"
    }
   ],
   "source": [
    "sample_std([0,1,2,3,4,5,6,7,8,9])"
   ]
  },
  {
   "cell_type": "code",
   "execution_count": 19,
   "metadata": {},
   "outputs": [
    {
     "name": "stdout",
     "output_type": "stream",
     "text": [
      "4.5\n",
      "3.0276503540974917\n"
     ]
    }
   ],
   "source": [
    "x = [0,1,2,3,4,5,6,7,8,9]\n",
    "print(mean(x))\n",
    "print(sample_std(x))"
   ]
  },
  {
   "cell_type": "code",
   "execution_count": 20,
   "metadata": {},
   "outputs": [
    {
     "name": "stdout",
     "output_type": "stream",
     "text": [
      "4.5\n",
      "3.0276503540974917\n"
     ]
    }
   ],
   "source": [
    "print(np.mean(x))\n",
    "print(np.std(x, ddof=1))"
   ]
  },
  {
   "cell_type": "code",
   "execution_count": 25,
   "metadata": {},
   "outputs": [
    {
     "name": "stdout",
     "output_type": "stream",
     "text": [
      "5.61 µs ± 44.6 ns per loop (mean ± std. dev. of 7 runs, 100000 loops each)\n"
     ]
    }
   ],
   "source": [
    "x = np.random.randint(11, size=100)\n",
    "xl = x.tolist()\n",
    "%timeit mean(xl)"
   ]
  },
  {
   "cell_type": "code",
   "execution_count": 26,
   "metadata": {},
   "outputs": [
    {
     "name": "stdout",
     "output_type": "stream",
     "text": [
      "14.7 µs ± 265 ns per loop (mean ± std. dev. of 7 runs, 100000 loops each)\n"
     ]
    }
   ],
   "source": [
    "%timeit np.mean(xl)"
   ]
  },
  {
   "cell_type": "code",
   "execution_count": 27,
   "metadata": {},
   "outputs": [
    {
     "name": "stdout",
     "output_type": "stream",
     "text": [
      "7.31 µs ± 207 ns per loop (mean ± std. dev. of 7 runs, 100000 loops each)\n"
     ]
    }
   ],
   "source": [
    "%timeit np.mean(x)"
   ]
  },
  {
   "cell_type": "code",
   "execution_count": 28,
   "metadata": {},
   "outputs": [
    {
     "name": "stdout",
     "output_type": "stream",
     "text": [
      "19.8 µs ± 737 ns per loop (mean ± std. dev. of 7 runs, 10000 loops each)\n"
     ]
    }
   ],
   "source": [
    "%timeit sample_std(xl)"
   ]
  },
  {
   "cell_type": "code",
   "execution_count": 29,
   "metadata": {},
   "outputs": [
    {
     "name": "stdout",
     "output_type": "stream",
     "text": [
      "24 µs ± 1.75 µs per loop (mean ± std. dev. of 7 runs, 10000 loops each)\n"
     ]
    }
   ],
   "source": [
    "%timeit np.std(x, ddof=1)"
   ]
  },
  {
   "cell_type": "code",
   "execution_count": 30,
   "metadata": {},
   "outputs": [],
   "source": [
    "?np.random.randint"
   ]
  },
  {
   "cell_type": "code",
   "execution_count": 31,
   "metadata": {},
   "outputs": [],
   "source": [
    "def create_mean_sd_lists(N_samples, M_rounds):\n",
    "    \"\"\"\n",
    "    1. Calculate mean and sample standard deviation of N_samples drawn from [0,100] uniformly.\n",
    "    2. Do step 1 for a total of M_rounds times.\n",
    "    3. Store the mean's and sample standard deviation's calculated in step 2 in (means, stds)\n",
    "    4. returns (means, stds)    \n",
    "    \"\"\"\n",
    "    means = []\n",
    "    stds = []\n",
    "    for round in range(M_rounds):\n",
    "        x = [random.randint(0,100) for k in range(N_samples)]\n",
    "        means.append(mean(x))\n",
    "        stds.append(sample_std(x))\n",
    "    return (means, stds)\n",
    "\n",
    "def create_mean_sd_lists_numpy(N_samples, M_rounds):\n",
    "    \"\"\"\n",
    "    Perform the same task as create_mean_sd_lists() but with numpy's built-in functions.\n",
    "    It works by creating a 2-D array then calculates mean and standard deviation by row.\n",
    "    \"\"\"\n",
    "    y = np.random.randint(101, size=(M_rounds,N_samples))\n",
    "    means = np.mean(y, axis=1) #axis=1 calculates by row.  axis=0 calculates by column.\n",
    "    stds = np.std(y, axis=1, ddof=1) #ddof=1 is sample std. ddof=0 or omitted is population std.\n",
    "    return (means, stds)\n",
    "        \n",
    "        "
   ]
  },
  {
   "cell_type": "code",
   "execution_count": 32,
   "metadata": {},
   "outputs": [
    {
     "name": "stdout",
     "output_type": "stream",
     "text": [
      "55.9 ms ± 362 µs per loop (mean ± std. dev. of 7 runs, 10 loops each)\n"
     ]
    }
   ],
   "source": [
    "%timeit create_mean_sd_lists(40, 1000)"
   ]
  },
  {
   "cell_type": "code",
   "execution_count": 33,
   "metadata": {},
   "outputs": [
    {
     "name": "stdout",
     "output_type": "stream",
     "text": [
      "611 µs ± 17.6 µs per loop (mean ± std. dev. of 7 runs, 1000 loops each)\n"
     ]
    }
   ],
   "source": [
    "%timeit create_mean_sd_lists_numpy(40, 1000)"
   ]
  },
  {
   "cell_type": "code",
   "execution_count": 34,
   "metadata": {},
   "outputs": [],
   "source": [
    "def plot_mean_sd_histogram(means, stds):\n",
    "    plt.hist(means, color='black', label='Hist. of means' )\n",
    "    plt.legend(loc='best')\n",
    "    plt.show()\n",
    "    plt.hist(stds, color='blue', label='Hist. of stdev')\n",
    "    plt.legend(loc='best')\n",
    "    plt.show()"
   ]
  },
  {
   "cell_type": "code",
   "execution_count": 35,
   "metadata": {},
   "outputs": [
    {
     "data": {
      "image/png": "[encoded data removed]",
      "text/plain": [
       "<Figure size 432x288 with 1 Axes>"
      ]
     },
     "metadata": {
      "needs_background": "light"
     },
     "output_type": "display_data"
    },
    {
     "data": {
      "image/png": "[encoded data removed]",
      "text/plain": [
       "<Figure size 432x288 with 1 Axes>"
      ]
     },
     "metadata": {
      "needs_background": "light"
     },
     "output_type": "display_data"
    }
   ],
   "source": [
    "(means, stds) = create_mean_sd_lists(10, 10000)\n",
    "plot_mean_sd_histogram(means, stds)"
   ]
  },
  {
   "cell_type": "code",
   "execution_count": 36,
   "metadata": {},
   "outputs": [
    {
     "data": {
      "image/png": "[encoded data removed]",
      "text/plain": [
       "<Figure size 432x288 with 1 Axes>"
      ]
     },
     "metadata": {
      "needs_background": "light"
     },
     "output_type": "display_data"
    },
    {
     "data": {
      "image/png": "[encoded data removed]",
      "text/plain": [
       "<Figure size 432x288 with 1 Axes>"
      ]
     },
     "metadata": {
      "needs_background": "light"
     },
     "output_type": "display_data"
    }
   ],
   "source": [
    "(means, stds) = create_mean_sd_lists_numpy(10, 10000)\n",
    "plot_mean_sd_histogram(means, stds)"
   ]
  },
  {
   "cell_type": "code",
   "execution_count": 37,
   "metadata": {},
   "outputs": [
    {
     "data": {
      "image/png": "[encoded data removed]",
      "text/plain": [
       "<Figure size 432x288 with 1 Axes>"
      ]
     },
     "metadata": {
      "needs_background": "light"
     },
     "output_type": "display_data"
    },
    {
     "data": {
      "image/png": "[encoded data removed]",
      "text/plain": [
       "<Figure size 432x288 with 1 Axes>"
      ]
     },
     "metadata": {
      "needs_background": "light"
     },
     "output_type": "display_data"
    }
   ],
   "source": [
    "(means, stds) = create_mean_sd_lists_numpy(40, 10000)\n",
    "plot_mean_sd_histogram(means, stds)"
   ]
  },
  {
   "cell_type": "code",
   "execution_count": 38,
   "metadata": {},
   "outputs": [
    {
     "data": {
      "image/png": "[encoded data removed]",
      "text/plain": [
       "<Figure size 432x288 with 1 Axes>"
      ]
     },
     "metadata": {
      "needs_background": "light"
     },
     "output_type": "display_data"
    },
    {
     "data": {
      "image/png": "[encoded data removed]",
      "text/plain": [
       "<Figure size 432x288 with 1 Axes>"
      ]
     },
     "metadata": {
      "needs_background": "light"
     },
     "output_type": "display_data"
    }
   ],
   "source": [
    "(means, stds) = create_mean_sd_lists_numpy(160, 10000)\n",
    "plot_mean_sd_histogram(means, stds)"
   ]
  },
  {
   "cell_type": "code",
   "execution_count": 53,
   "metadata": {},
   "outputs": [
    {
     "data": {
      "image/png": "[encoded data removed]",
      "text/plain": [
       "<Figure size 432x288 with 1 Axes>"
      ]
     },
     "metadata": {
      "needs_background": "light"
     },
     "output_type": "display_data"
    }
   ],
   "source": [
    "#It's more instructive to plot all histogram of estimated means together in one graph.\n",
    "M_rounds = 10000\n",
    "#colors = ['red','orange','yellow', 'green']\n",
    "colors = ['green','yellow','orange','red']\n",
    "samples = [10, 40, 160, 640]\n",
    "#samples = [640, 160, 40, 10]\n",
    "for i in range(len(samples)):\n",
    "    N_samples = samples[i]\n",
    "    c = colors[i]\n",
    "    y = np.random.randint(101, size=(M_rounds,N_samples))\n",
    "    means = np.mean(y, axis=1) #axis=1 calculates by row.  axis=0 calculates by column.\n",
    "    #stds = np.std(y, axis=1, ddof=1) #ddof=1 is sample std. ddof=0 or omitted is population std.\n",
    "    plt.hist(means, bins=50, color=c, alpha=0.2, density=True,label=str(N_samples) + ' samples')\n",
    "    plt.legend(loc='upper right')\n",
    "plt.show()"
   ]
  },
  {
   "cell_type": "code",
   "execution_count": 40,
   "metadata": {},
   "outputs": [
    {
     "name": "stdout",
     "output_type": "stream",
     "text": [
      "Population contains 100000 elements\n",
      "Population mean = 50.04. Population std. = 29.22\n"
     ]
    }
   ],
   "source": [
    "#Homework #2\n",
    "population = np.random.randint(101, size=100000) #https://docs.scipy.org/doc/numpy/reference/generated/numpy.random.randint.html#numpy.random.randint\n",
    "print('Population contains {} elements'.format(len(population)))\n",
    "mu = np.mean(population)\n",
    "sigma = np.std(population)\n",
    "print('Population mean = {:.2f}. Population std. = {:.2f}'.format(mu, sigma))"
   ]
  },
  {
   "cell_type": "code",
   "execution_count": 41,
   "metadata": {},
   "outputs": [
    {
     "name": "stdout",
     "output_type": "stream",
     "text": [
      "10 samples.\n",
      "Sample mean = 23.40. Sample std. = 20.87\n",
      "Est. population mean = Sample mean ± Sample std/sqrt(10) = 23.40 ± 6.60\n"
     ]
    }
   ],
   "source": [
    "N_samples = 10\n",
    "samp = np.random.choice(population,size=N_samples) #https://docs.scipy.org/doc/numpy/reference/generated/numpy.random.choice.html\n",
    "print('{} samples.'.format(N_samples))\n",
    "mean = np.mean(samp)\n",
    "std = np.std(samp, ddof=1)\n",
    "print('Sample mean = {:.2f}. Sample std. = {:.2f}'.format(mean, std ))\n",
    "print('Est. population mean = Sample mean ± Sample std/sqrt(10) = {:.2f} ± {:.2f}'.format(mean,std/math.sqrt(N_samples)))"
   ]
  },
  {
   "cell_type": "code",
   "execution_count": 42,
   "metadata": {},
   "outputs": [
    {
     "name": "stdout",
     "output_type": "stream",
     "text": [
      "10 samples:\n",
      "Sample mean = 45.00. Sample std. = 32.96\n",
      "Est. population mean = Sample mean ± Sample std/sqrt(10) = 45.00 ± 10.42\n",
      "Est. population std. = 32.96\n",
      "----------------------------------------\n",
      "40 samples:\n",
      "Sample mean = 45.33. Sample std. = 29.04\n",
      "Est. population mean = Sample mean ± Sample std/sqrt(40) = 45.33 ± 4.59\n",
      "Est. population std. = 29.04\n",
      "----------------------------------------\n",
      "1000 samples:\n",
      "Sample mean = 51.20. Sample std. = 29.57\n",
      "Est. population mean = Sample mean ± Sample std/sqrt(1000) = 51.20 ± 0.94\n",
      "Est. population std. = 29.57\n",
      "----------------------------------------\n"
     ]
    }
   ],
   "source": [
    "samples = [10, 40, 1000]\n",
    "for N_samples in samples:\n",
    "    samp = np.random.choice(population,size=N_samples) #https://docs.scipy.org/doc/numpy/reference/generated/numpy.random.choice.html\n",
    "    print('{} samples:'.format(N_samples))\n",
    "    mean = np.mean(samp)\n",
    "    std = np.std(samp, ddof=1)\n",
    "    print('Sample mean = {:.2f}. Sample std. = {:.2f}'.format(mean, std ))\n",
    "    print('Est. population mean = Sample mean ± Sample std/sqrt({}) = {:.2f} ± {:.2f}'.format(N_samples,mean,std/math.sqrt(N_samples)))\n",
    "    print('Est. population std. = {:.2f}'.format(std))\n",
    "    print('-'*40)"
   ]
  },
  {
   "cell_type": "code",
   "execution_count": 43,
   "metadata": {},
   "outputs": [],
   "source": [
    "#In class.  Sample from Normal Distribution.\n"
   ]
  },
  {
   "cell_type": "code",
   "execution_count": 44,
   "metadata": {},
   "outputs": [
    {
     "name": "stdout",
     "output_type": "stream",
     "text": [
      "3 samples:\n",
      "Sample mean = 0.22; Sample std. = 1.65\n",
      "Est. population mean = Sample mean ± Sample std/sqrt(10) = 0.22 ± 0.95\n",
      "Est. population std. = 1.65\n",
      "----------------------------------------\n",
      "10 samples:\n",
      "Sample mean = 0.18; Sample std. = 1.19\n",
      "Est. population mean = Sample mean ± Sample std/sqrt(10) = 0.18 ± 0.38\n",
      "Est. population std. = 1.19\n",
      "----------------------------------------\n",
      "40 samples:\n",
      "Sample mean = 0.47; Sample std. = 1.07\n",
      "Est. population mean = Sample mean ± Sample std/sqrt(10) = 0.47 ± 0.17\n",
      "Est. population std. = 1.07\n",
      "----------------------------------------\n",
      "1000 samples:\n",
      "Sample mean = 0.28; Sample std. = 0.98\n",
      "Est. population mean = Sample mean ± Sample std/sqrt(10) = 0.28 ± 0.03\n",
      "Est. population std. = 0.98\n",
      "----------------------------------------\n",
      "10000 samples:\n",
      "Sample mean = 0.30; Sample std. = 1.00\n",
      "Est. population mean = Sample mean ± Sample std/sqrt(10) = 0.30 ± 0.01\n",
      "Est. population std. = 1.00\n",
      "----------------------------------------\n"
     ]
    }
   ],
   "source": [
    "samples = [3, 10, 40, 1000, 10000]\n",
    "population_mean = 0.3\n",
    "population_std = 1.0\n",
    "for N_samples in samples:\n",
    "    samp = np.random.normal(population_mean,population_std, size=N_samples)\n",
    "    print('{} samples:'.format(N_samples))\n",
    "    mean = np.mean(samp)\n",
    "    std = np.std(samp, ddof=1)\n",
    "    print('Sample mean = {:.2f}; Sample std. = {:.2f}'.format(mean, std ))\n",
    "    print('Est. population mean = Sample mean ± Sample std/sqrt(10) = {:.2f} ± {:.2f}'.format(mean,std/math.sqrt(N_samples)))\n",
    "    print('Est. population std. = {:.2f}'.format(std))\n",
    "    print('-'*40)"
   ]
  },
  {
   "cell_type": "code",
   "execution_count": 45,
   "metadata": {},
   "outputs": [
    {
     "data": {
      "text/plain": [
       "array([ 0.34671607,  0.85031606,  0.76996598,  1.31201174, -0.31385182,\n",
       "        1.40591855,  0.69646889, -0.39241788,  1.13427384, -1.73803867])"
      ]
     },
     "execution_count": 45,
     "metadata": {},
     "output_type": "execute_result"
    }
   ],
   "source": [
    "samp = np.random.normal(population_mean,population_std, size=10)\n",
    "samp"
   ]
  },
  {
   "cell_type": "code",
   "execution_count": 46,
   "metadata": {},
   "outputs": [
    {
     "data": {
      "text/plain": [
       "0.40713627526450813"
      ]
     },
     "execution_count": 46,
     "metadata": {},
     "output_type": "execute_result"
    }
   ],
   "source": [
    "np.mean(samp)"
   ]
  },
  {
   "cell_type": "code",
   "execution_count": 47,
   "metadata": {},
   "outputs": [
    {
     "data": {
      "text/plain": [
       "0.30770473915824814"
      ]
     },
     "execution_count": 47,
     "metadata": {},
     "output_type": "execute_result"
    }
   ],
   "source": [
    "np.std(samp, ddof=1)/math.sqrt(10)"
   ]
  },
  {
   "cell_type": "code",
   "execution_count": 48,
   "metadata": {},
   "outputs": [],
   "source": [
    "samp = np.random.normal(population_mean,population_std, size=100)\n",
    "samp;"
   ]
  },
  {
   "cell_type": "code",
   "execution_count": 49,
   "metadata": {},
   "outputs": [
    {
     "data": {
      "text/plain": [
       "0.26475014088587484"
      ]
     },
     "execution_count": 49,
     "metadata": {},
     "output_type": "execute_result"
    }
   ],
   "source": [
    "np.mean(samp)"
   ]
  },
  {
   "cell_type": "code",
   "execution_count": 50,
   "metadata": {},
   "outputs": [
    {
     "data": {
      "text/plain": [
       "0.09900972799665145"
      ]
     },
     "execution_count": 50,
     "metadata": {},
     "output_type": "execute_result"
    }
   ],
   "source": [
    "np.std(samp, ddof=1)/math.sqrt(100)"
   ]
  },
  {
   "cell_type": "code",
   "execution_count": 51,
   "metadata": {},
   "outputs": [
    {
     "data": {
      "text/plain": [
       "5.000000000000014"
      ]
     },
     "execution_count": 51,
     "metadata": {},
     "output_type": "execute_result"
    }
   ],
   "source": [
    "(np.mean([132,134,134])-130)/(np.std([132,134,134], ddof=1)/math.sqrt(3))"
   ]
  },
  {
   "cell_type": "code",
   "execution_count": 52,
   "metadata": {},
   "outputs": [
    {
     "data": {
      "text/plain": [
       "1.1547005383792515"
      ]
     },
     "execution_count": 52,
     "metadata": {},
     "output_type": "execute_result"
    }
   ],
   "source": [
    "np.std([132,134,134], ddof=1)"
   ]
  },
  {
   "cell_type": "code",
   "execution_count": 54,
   "metadata": {},
   "outputs": [],
   "source": [
    "forehead = [33.4, 34.6, 33.2, 34.3, 33.8, 34, 32, 31.6]\n",
    "mouth = [33.3, 34.4, 33.8, 33.5, 33.8, 31.9, 32.8, 33.9]"
   ]
  },
  {
   "cell_type": "code",
   "execution_count": 58,
   "metadata": {},
   "outputs": [
    {
     "data": {
      "text/plain": [
       "33.3625"
      ]
     },
     "execution_count": 58,
     "metadata": {},
     "output_type": "execute_result"
    }
   ],
   "source": [
    "mean_forehead = np.mean(forehead)\n",
    "mean_forehead"
   ]
  },
  {
   "cell_type": "code",
   "execution_count": 59,
   "metadata": {},
   "outputs": [
    {
     "data": {
      "text/plain": [
       "33.425"
      ]
     },
     "execution_count": 59,
     "metadata": {},
     "output_type": "execute_result"
    }
   ],
   "source": [
    "mean_mouth = np.mean(mouth)\n",
    "mean_mouth"
   ]
  },
  {
   "cell_type": "code",
   "execution_count": 60,
   "metadata": {},
   "outputs": [
    {
     "data": {
      "text/plain": [
       "1.068961445248878"
      ]
     },
     "execution_count": 60,
     "metadata": {},
     "output_type": "execute_result"
    }
   ],
   "source": [
    "sampleSD_forehead = np.std(forehead, ddof = 1)\n",
    "sampleSD_forehead"
   ]
  },
  {
   "cell_type": "code",
   "execution_count": 61,
   "metadata": {},
   "outputs": [
    {
     "data": {
      "text/plain": [
       "0.7741354624907157"
      ]
     },
     "execution_count": 61,
     "metadata": {},
     "output_type": "execute_result"
    }
   ],
   "source": [
    "sampleSD_mouth = np.std(mouth, ddof = 1)\n",
    "sampleSD_mouth"
   ]
  },
  {
   "cell_type": "code",
   "execution_count": 65,
   "metadata": {},
   "outputs": [
    {
     "data": {
      "text/plain": [
       "0.37793494338122696"
      ]
     },
     "execution_count": 65,
     "metadata": {},
     "output_type": "execute_result"
    }
   ],
   "source": [
    "SEM_forehead = sampleSD_forehead/np.sqrt(len(forehead))\n",
    "SEM_forehead"
   ]
  },
  {
   "cell_type": "code",
   "execution_count": 66,
   "metadata": {},
   "outputs": [
    {
     "data": {
      "text/plain": [
       "0.2736982175420846"
      ]
     },
     "execution_count": 66,
     "metadata": {},
     "output_type": "execute_result"
    }
   ],
   "source": [
    "SEM_mouth = sampleSD_mouth/np.sqrt(len(mouth))\n",
    "SEM_mouth"
   ]
  },
  {
   "cell_type": "code",
   "execution_count": 68,
   "metadata": {},
   "outputs": [],
   "source": [
    "def estimate_mean_with_its_uncertainty(data):\n",
    "    m = np.mean(data)\n",
    "    sd = np.std(data, ddof=1)\n",
    "    sem = sd/np.sqrt(len(data))\n",
    "    return (m, sem)"
   ]
  },
  {
   "cell_type": "code",
   "execution_count": 69,
   "metadata": {},
   "outputs": [],
   "source": [
    "women_temp_forehead = [33.4, 34.2]\n",
    "men_temp_forehead = [34.3, 34.3, 34.4, 34.1, 34.3]"
   ]
  },
  {
   "cell_type": "code",
   "execution_count": 70,
   "metadata": {},
   "outputs": [
    {
     "data": {
      "text/plain": [
       "(33.8, 0.4000000000000021)"
      ]
     },
     "execution_count": 70,
     "metadata": {},
     "output_type": "execute_result"
    }
   ],
   "source": [
    "estimate_mean_with_its_uncertainty(women_temp_forehead)"
   ]
  },
  {
   "cell_type": "code",
   "execution_count": 71,
   "metadata": {},
   "outputs": [
    {
     "data": {
      "text/plain": [
       "(34.279999999999994, 0.04898979485566295)"
      ]
     },
     "execution_count": 71,
     "metadata": {},
     "output_type": "execute_result"
    }
   ],
   "source": [
    "estimate_mean_with_its_uncertainty(men_temp_forehead)"
   ]
  },
  {
   "cell_type": "code",
   "execution_count": 72,
   "metadata": {},
   "outputs": [],
   "source": [
    "import numpy as np\n",
    "def create_binary_population(percents=50,size=1000000,shuffle=False):\n",
    "    size1 = int(percents/100 * size)\n",
    "    size2 = size - size1\n",
    "    a1 = np.ones(size1)\n",
    "    a2 = np.zeros(size2)\n",
    "    population = np.concatenate((a1, a2))\n",
    "    if shuffle:\n",
    "        np.random.shuffle(population)\n",
    "    return(population)"
   ]
  },
  {
   "cell_type": "code",
   "execution_count": 73,
   "metadata": {},
   "outputs": [
    {
     "data": {
      "text/plain": [
       "array([1., 1., 1., 1., 1., 1., 1., 1., 1., 1., 1., 1., 1., 1., 1., 1., 1.,\n",
       "       1., 1., 1., 1., 1., 1., 1., 1., 1., 1., 1., 1., 1., 1., 1., 1., 1.,\n",
       "       1., 1., 1., 1., 1., 1., 1., 1., 1., 1., 1., 1., 1., 1., 1., 1., 1.,\n",
       "       1., 1., 1., 1., 1., 1., 1., 1., 1., 1., 1., 1., 1., 1., 0., 0., 0.,\n",
       "       0., 0., 0., 0., 0., 0., 0., 0., 0., 0., 0., 0., 0., 0., 0., 0., 0.,\n",
       "       0., 0., 0., 0., 0., 0., 0., 0., 0., 0., 0., 0., 0., 0., 0.])"
      ]
     },
     "execution_count": 73,
     "metadata": {},
     "output_type": "execute_result"
    }
   ],
   "source": [
    "interviews = create_binary_population(65, 100)\n",
    "interviews"
   ]
  },
  {
   "cell_type": "code",
   "execution_count": 74,
   "metadata": {},
   "outputs": [
    {
     "data": {
      "text/plain": [
       "0.65"
      ]
     },
     "execution_count": 74,
     "metadata": {},
     "output_type": "execute_result"
    }
   ],
   "source": [
    "np.mean(interviews)"
   ]
  },
  {
   "cell_type": "code",
   "execution_count": 75,
   "metadata": {},
   "outputs": [
    {
     "data": {
      "text/plain": [
       "0.4793724854411022"
      ]
     },
     "execution_count": 75,
     "metadata": {},
     "output_type": "execute_result"
    }
   ],
   "source": [
    "np.std(interviews, ddof=1)"
   ]
  },
  {
   "cell_type": "code",
   "execution_count": 76,
   "metadata": {},
   "outputs": [],
   "source": [
    "interviews = create_binary_population(65, 100000)\n",
    "\n"
   ]
  },
  {
   "cell_type": "code",
   "execution_count": 77,
   "metadata": {},
   "outputs": [
    {
     "data": {
      "text/plain": [
       "0.65"
      ]
     },
     "execution_count": 77,
     "metadata": {},
     "output_type": "execute_result"
    }
   ],
   "source": [
    "np.mean(interviews)"
   ]
  },
  {
   "cell_type": "code",
   "execution_count": 78,
   "metadata": {},
   "outputs": [
    {
     "data": {
      "text/plain": [
       "0.47697198557436293"
      ]
     },
     "execution_count": 78,
     "metadata": {},
     "output_type": "execute_result"
    }
   ],
   "source": [
    "np.std(interviews, ddof=1)"
   ]
  },
  {
   "cell_type": "code",
   "execution_count": 79,
   "metadata": {},
   "outputs": [
    {
     "data": {
      "text/plain": [
       "0.0015083178545079623"
      ]
     },
     "execution_count": 79,
     "metadata": {},
     "output_type": "execute_result"
    }
   ],
   "source": [
    "np.std(interviews, ddof=1) / np.sqrt(100000)"
   ]
  },
  {
   "cell_type": "code",
   "execution_count": 80,
   "metadata": {},
   "outputs": [
    {
     "data": {
      "text/plain": [
       "-0.21004409626711562"
      ]
     },
     "execution_count": 80,
     "metadata": {},
     "output_type": "execute_result"
    }
   ],
   "source": [
    "np.random.normal(0, 1)"
   ]
  },
  {
   "cell_type": "code",
   "execution_count": 93,
   "metadata": {},
   "outputs": [],
   "source": [
    "normal_samples = np.random.normal(0,1, 1000000)"
   ]
  },
  {
   "cell_type": "code",
   "execution_count": 94,
   "metadata": {},
   "outputs": [
    {
     "data": {
      "text/plain": [
       "1000000"
      ]
     },
     "execution_count": 94,
     "metadata": {},
     "output_type": "execute_result"
    }
   ],
   "source": [
    "len(normal_samples)"
   ]
  },
  {
   "cell_type": "code",
   "execution_count": 99,
   "metadata": {},
   "outputs": [
    {
     "data": {
      "text/plain": [
       "0.682033"
      ]
     },
     "execution_count": 99,
     "metadata": {},
     "output_type": "execute_result"
    }
   ],
   "source": [
    "(len(normal_samples[normal_samples < 1]) - len(normal_samples[normal_samples < -1]))   / len(normal_samples)"
   ]
  },
  {
   "cell_type": "code",
   "execution_count": 100,
   "metadata": {},
   "outputs": [
    {
     "data": {
      "text/plain": [
       "0.954198"
      ]
     },
     "execution_count": 100,
     "metadata": {},
     "output_type": "execute_result"
    }
   ],
   "source": [
    "(len(normal_samples[normal_samples < 2]) - len(normal_samples[normal_samples < -2]))   / len(normal_samples)"
   ]
  },
  {
   "cell_type": "code",
   "execution_count": 101,
   "metadata": {},
   "outputs": [
    {
     "data": {
      "text/plain": [
       "0.997307"
      ]
     },
     "execution_count": 101,
     "metadata": {},
     "output_type": "execute_result"
    }
   ],
   "source": [
    "(len(normal_samples[normal_samples < 3]) - len(normal_samples[normal_samples < -3]))   / len(normal_samples)"
   ]
  },
  {
   "cell_type": "code",
   "execution_count": 104,
   "metadata": {},
   "outputs": [
    {
     "name": "stdout",
     "output_type": "stream",
     "text": [
      "0.682943\n",
      "0.954262\n",
      "0.997239\n"
     ]
    }
   ],
   "source": [
    "normal_samples = np.random.normal(0,1, 1000000)\n",
    "print((len(normal_samples[normal_samples < 1]) - len(normal_samples[normal_samples < -1]))   / len(normal_samples))\n",
    "print((len(normal_samples[normal_samples < 2]) - len(normal_samples[normal_samples < -2]))   / len(normal_samples)\n",
    ")\n",
    "print((len(normal_samples[normal_samples < 3]) - len(normal_samples[normal_samples < -3]))   / len(normal_samples))"
   ]
  },
  {
   "cell_type": "code",
   "execution_count": 105,
   "metadata": {},
   "outputs": [
    {
     "name": "stdout",
     "output_type": "stream",
     "text": [
      "0.683\n",
      "0.956\n",
      "0.997\n"
     ]
    }
   ],
   "source": [
    "normal_samples = np.random.normal(0,1, 1000)\n",
    "print((len(normal_samples[normal_samples < 1]) - len(normal_samples[normal_samples < -1]))   / len(normal_samples))\n",
    "print((len(normal_samples[normal_samples < 2]) - len(normal_samples[normal_samples < -2]))   / len(normal_samples)\n",
    ")\n",
    "print((len(normal_samples[normal_samples < 3]) - len(normal_samples[normal_samples < -3]))   / len(normal_samples))"
   ]
  },
  {
   "cell_type": "code",
   "execution_count": 106,
   "metadata": {},
   "outputs": [
    {
     "name": "stdout",
     "output_type": "stream",
     "text": [
      "0.6827145\n",
      "0.9545446\n",
      "0.9972886\n"
     ]
    }
   ],
   "source": [
    "normal_samples = np.random.normal(0,1, 10000000)\n",
    "print((len(normal_samples[normal_samples < 1]) - len(normal_samples[normal_samples < -1]))   / len(normal_samples))\n",
    "print((len(normal_samples[normal_samples < 2]) - len(normal_samples[normal_samples < -2]))   / len(normal_samples)\n",
    ")\n",
    "print((len(normal_samples[normal_samples < 3]) - len(normal_samples[normal_samples < -3]))   / len(normal_samples))"
   ]
  },
  {
   "cell_type": "raw",
   "metadata": {},
   "source": [
    "mercuryInSharkFin = [0.01, 0.01, 0.01, 10.92, 21.02, 2.18, 9.26, 11.99, 0.57, 4.18]"
   ]
  },
  {
   "cell_type": "code",
   "execution_count": 112,
   "metadata": {},
   "outputs": [],
   "source": [
    "mercuryInSharkFin = [0.01, 0.01, 0.01, 10.92, 21.02, 2.18, 9.26, 11.99, 0.57, 4.18]\n",
    "mean_mercury = np.mean(mercuryInSharkFin)\n",
    "sample_sd_mercury = np.std(mercuryInSharkFin, ddof =1)\n",
    "safe_mercury_level = 0.05\n",
    "t_score_mercury = (mean_mercury-safe_mercury_level)/(sample_sd_mercury/np.sqrt(len(mercuryInSharkFin)))"
   ]
  },
  {
   "cell_type": "code",
   "execution_count": 113,
   "metadata": {},
   "outputs": [
    {
     "name": "stdout",
     "output_type": "stream",
     "text": [
      "6.015000000000001 7.081605671660127\n",
      "2.6636595028712424\n"
     ]
    }
   ],
   "source": [
    "print(mean_mercury, sample_sd_mercury)\n",
    "print(t_score_mercury)"
   ]
  },
  {
   "cell_type": "code",
   "execution_count": 120,
   "metadata": {},
   "outputs": [],
   "source": [
    "mercury_t = np.random.standard_t(len(mercuryInSharkFin)-1, 10000000)"
   ]
  },
  {
   "cell_type": "code",
   "execution_count": 121,
   "metadata": {},
   "outputs": [
    {
     "data": {
      "text/plain": [
       "0.0129428"
      ]
     },
     "execution_count": 121,
     "metadata": {},
     "output_type": "execute_result"
    }
   ],
   "source": [
    "(len(mercury_t[mercury_t>t_score_mercury]))/len(mercury_t)"
   ]
  },
  {
   "cell_type": "code",
   "execution_count": null,
   "metadata": {},
   "outputs": [],
   "source": []
  }
 ],
 "metadata": {
  "kernelspec": {
   "display_name": "Python 3",
   "language": "python",
   "name": "python3"
  },
  "language_info": {
   "codemirror_mode": {
    "name": "ipython",
    "version": 3
   },
   "file_extension": ".py",
   "mimetype": "text/x-python",
   "name": "python",
   "nbconvert_exporter": "python",
   "pygments_lexer": "ipython3",
   "version": "3.6.7"
  }
 },
 "nbformat": 4,
 "nbformat_minor": 2
}
